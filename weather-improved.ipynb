{
 "cells": [
  {
   "cell_type": "code",
   "execution_count": 7,
   "id": "cdada91a-cf5d-452c-b36c-32b2fa1ccc56",
   "metadata": {},
   "outputs": [],
   "source": [
    "import pandas as pd\n",
    "import numpy as np\n",
    "import os"
   ]
  },
  {
   "cell_type": "code",
   "execution_count": 9,
   "id": "c95c0928-7823-4e38-9e94-296be07a90d9",
   "metadata": {},
   "outputs": [],
   "source": [
    "def get_all_weather_csvs(directory):\n",
    "    \"\"\"\n",
    "    Get all CSV files in the specified directory.\n",
    "\n",
    "    Args:\n",
    "        directory (str): Path to the directory containing CSV files.\n",
    "\n",
    "    Returns:\n",
    "        List[str]: List of file paths to all CSV files.\n",
    "    \"\"\"\n",
    "    csv_files = []\n",
    "    for file in os.listdir(directory):\n",
    "        if file.endswith(\".csv\"):\n",
    "            csv_files.append(os.path.join(directory, file))\n",
    "    return csv_files"
   ]
  },
  {
   "cell_type": "code",
   "execution_count": 11,
   "id": "092004f0-e9bd-4f4d-a7b4-d363f07583f9",
   "metadata": {},
   "outputs": [],
   "source": [
    "def clean_month_weather_data_hourly(csv_file):\n",
    "    \"\"\"\n",
    "    Clean and process hourly weather data from a CSV file.\n",
    "\n",
    "    Args:\n",
    "        csv_file (str): Path to the CSV file.\n",
    "\n",
    "    Returns:\n",
    "        pd.DataFrame: Processed hourly weather data.\n",
    "    \"\"\"    \n",
    "    try:\n",
    "        df = pd.read_csv(csv_file, low_memory=False)\n",
    "        df.rename(columns=lambda x: x.strip(), inplace=True)\n",
    "        df[\"DATE\"] = pd.to_datetime(df[\"DATE\"], errors=\"coerce\")\n",
    "        \n",
    "        hourly_data = df[[\"DATE\", \"HourlyPrecipitation\", \"HourlyWindSpeed\"]].copy()\n",
    "        hourly_data.replace(\"T\", 0, inplace=True)\n",
    "        hourly_data.replace(regex=r\"[^\\d.]\", value=np.nan, inplace=True)\n",
    "        \n",
    "        hourly_data.columns = [\"date\", \"precipitation\", \"wind_speed\"]\n",
    "        hourly_data[\"precipitation\"] = pd.to_numeric(hourly_data[\"precipitation\"], errors=\"coerce\")\n",
    "        hourly_data[\"wind_speed\"] = pd.to_numeric(hourly_data[\"wind_speed\"], errors=\"coerce\")\n",
    "        \n",
    "        return hourly_data\n",
    "    except Exception as e:\n",
    "        print(f\"Error processing file {csv_file}: {e}\")\n",
    "        return pd.DataFrame()\n"
   ]
  },
  {
   "cell_type": "code",
   "execution_count": 29,
   "id": "6bc70542-fb7c-41c4-aefc-092058f09ca1",
   "metadata": {},
   "outputs": [],
   "source": [
    "def clean_month_weather_data_daily(csv_file):\n",
    "    try:\n",
    "        # 读取文件\n",
    "        df = pd.read_csv(csv_file, low_memory=False)\n",
    "        \n",
    "        # 修整列名，解析日期\n",
    "        df.rename(columns=lambda x: x.strip(), inplace=True)\n",
    "        df[\"DATE\"] = pd.to_datetime(df[\"DATE\"], errors=\"coerce\")\n",
    "        \n",
    "        # 提取需要的列：这里假设 Daily 数据已经存在\n",
    "        daily_data = df[[\"DATE\", \"DailyPrecipitation\", \"DailyAverageWindSpeed\", \"DailySnowfall\"]].copy()\n",
    "        \n",
    "        # 处理特殊值 \"T\" 和其他非数字字符\n",
    "        daily_data.replace(\"T\", 0, inplace=True)\n",
    "        daily_data.replace(regex=r\"[^\\d.]\", value=np.nan, inplace=True)\n",
    "        \n",
    "        # 重命名列\n",
    "        daily_data.columns = [\"date\", \"precipitation\", \"average_wind_speed\", \"snowfall\"]\n",
    "        \n",
    "        # 转换为数值类型\n",
    "        daily_data[\"precipitation\"] = pd.to_numeric(daily_data[\"precipitation\"], errors=\"coerce\")\n",
    "        daily_data[\"average_wind_speed\"] = pd.to_numeric(daily_data[\"average_wind_speed\"], errors=\"coerce\")\n",
    "        daily_data[\"snowfall\"] = pd.to_numeric(daily_data[\"snowfall\"], errors=\"coerce\")\n",
    "        \n",
    "        # 提取非空值的数据\n",
    "        daily_data = daily_data.dropna(subset=[\"precipitation\", \"average_wind_speed\", \"snowfall\"], how=\"all\")\n",
    "        \n",
    "        # 确保日期列只保留日期部分\n",
    "        daily_data[\"date\"] = daily_data[\"date\"].dt.date\n",
    "        \n",
    "        return daily_data\n",
    "    except Exception as e:\n",
    "        print(f\"Error processing file {csv_file}: {e}\")\n",
    "        return pd.DataFrame()"
   ]
  },
  {
   "cell_type": "code",
   "execution_count": 31,
   "id": "5616ebc8-11d7-49d7-875f-984e82fca513",
   "metadata": {},
   "outputs": [],
   "source": [
    "def load_and_clean_weather_data(directory):\n",
    "    \"\"\"\n",
    "    Load and clean weather data from all CSV files in the directory.\n",
    "\n",
    "    Args:\n",
    "        directory (str): Path to the directory containing CSV files.\n",
    "\n",
    "    Returns:\n",
    "        tuple: Two DataFrames - hourly and daily weather data.\n",
    "    \"\"\"\n",
    "    \n",
    "    weather_csv_files = get_all_weather_csvs(directory)\n",
    "    \n",
    "    hourly_dataframes = []\n",
    "    daily_dataframes = []\n",
    "        \n",
    "    for csv_file in weather_csv_files:\n",
    "        print(f\"Processing {csv_file}...\")\n",
    "        hourly_dataframe = clean_month_weather_data_hourly(csv_file)\n",
    "        daily_dataframe = clean_month_weather_data_daily(csv_file)\n",
    "        hourly_dataframes.append(hourly_dataframe)\n",
    "        daily_dataframes.append(daily_dataframe)\n",
    "        \n",
    "    # Concatenate dataframes\n",
    "    hourly_data = pd.concat(hourly_dataframes, ignore_index=True)\n",
    "    daily_data = pd.concat(daily_dataframes, ignore_index=True)\n",
    "    \n",
    "    return hourly_data, daily_data"
   ]
  },
  {
   "cell_type": "code",
   "execution_count": 27,
   "id": "ab858d5c-66ef-4c4e-86e5-034ba5d6073c",
   "metadata": {},
   "outputs": [
    {
     "name": "stdout",
     "output_type": "stream",
     "text": [
      "Processing weather/2020_weather.csv...\n",
      "Processing weather/2023_weather.csv...\n",
      "Processing weather/2021_weather.csv...\n",
      "Processing weather/2024_weather.csv...\n",
      "Processing weather/2022_weather.csv...\n",
      "Cleaned data saved.\n"
     ]
    }
   ],
   "source": [
    "if __name__ == \"__main__\":\n",
    "    \n",
    "    WEATHER_CSV_DIR = \"weather/\"  # Path to your weather data directory\n",
    "\n",
    "    # Process weather data\n",
    "    hourly_weather_data, daily_weather_data = load_and_clean_weather_data(WEATHER_CSV_DIR)\n",
    "\n",
    "    # Replace NaN values with 0\n",
    "    hourly_weather_data.fillna(0, inplace=True)\n",
    "    daily_weather_data.fillna(0, inplace=True)\n",
    "\n",
    "    # Save cleaned data to CSV\n",
    "    hourly_weather_data.to_csv(\"cleaned_hourly_weather_data.csv\", index=False)\n",
    "    daily_weather_data.to_csv(\"cleaned_daily_weather_data.csv\", index=False)\n",
    "    print(\"Cleaned data saved.\")"
   ]
  },
  {
   "cell_type": "code",
   "execution_count": null,
   "id": "7bdf3c67-34cf-46e0-9a77-b869715393b7",
   "metadata": {},
   "outputs": [],
   "source": []
  }
 ],
 "metadata": {
  "kernelspec": {
   "display_name": "Python 3 (ipykernel)",
   "language": "python",
   "name": "python3"
  },
  "language_info": {
   "codemirror_mode": {
    "name": "ipython",
    "version": 3
   },
   "file_extension": ".py",
   "mimetype": "text/x-python",
   "name": "python",
   "nbconvert_exporter": "python",
   "pygments_lexer": "ipython3",
   "version": "3.12.4"
  }
 },
 "nbformat": 4,
 "nbformat_minor": 5
}
